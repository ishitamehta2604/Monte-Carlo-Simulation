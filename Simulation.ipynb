{
 "cells": [
  {
   "cell_type": "code",
   "execution_count": null,
   "metadata": {},
   "outputs": [],
   "source": [
    "from utilities import simulation\n",
    "from ipywidgets import interact\n",
    "import pandas as pd\n",
    "from matplotlib import pyplot as plt"
   ]
  },
  {
   "cell_type": "code",
   "execution_count": null,
   "metadata": {},
   "outputs": [],
   "source": [
    "df = simulation(100, target_score=21, head_cards= True, head_card_value=10, dealer_advantage = True,BJ_reward = 1.5, explosion = False, Summary = False, detail_summary = False)"
   ]
  },
  {
   "cell_type": "code",
   "execution_count": null,
   "metadata": {},
   "outputs": [],
   "source": [
    "df.rename(columns={\"Cumulative\": \"Base\"}, inplace = True)\n",
    "df.drop(\"Won\", inplace =True, axis = 1)"
   ]
  },
  {
   "cell_type": "code",
   "execution_count": null,
   "metadata": {},
   "outputs": [],
   "source": [
    "Number = int(input(\"Number of simulation: \"))\n",
    "target_score = int(input(\"Target Score: \"))\n",
    "head_cards = bool(int(input(\"Head Card: \")))\n",
    "head_card_value = int(input(\"Head Card Value: \"))\n",
    "dealer_advantage =bool(int(input(\"Should the Dealer be given the advantage: \")))\n",
    "BJ_reward = float(input(\"Perfect Black Jack Reward: \"))\n",
    "explosion = bool(int(input(\"explosion Kit: \")))\n",
    "Summary = bool(int(input(\"Print Summary: \")))\n",
    "detail_summary = bool(int(input(\"Detailed Summary: \")))"
   ]
  },
  {
   "cell_type": "code",
   "execution_count": null,
   "metadata": {},
   "outputs": [],
   "source": [
    "df2 = simulation(Number, target_score=target_score, head_cards= head_cards, head_card_value=head_card_value, dealer_advantage = dealer_advantage, BJ_reward = BJ_reward, explosion = explosion, Summary = Summary, detail_summary = detail_summary)"
   ]
  },
  {
   "cell_type": "code",
   "execution_count": null,
   "metadata": {},
   "outputs": [],
   "source": [
    "df2.rename(columns={\"Cumulative\": \"Variation1\"}, inplace = True)\n",
    "df2.drop(\"Won\", inplace =True, axis = 1)\n",
    "result = df.merge(df2, on='Game')"
   ]
  },
  {
   "cell_type": "code",
   "execution_count": null,
   "metadata": {},
   "outputs": [],
   "source": [
    "df3 = simulation(100, target_score=32, head_cards= True, head_card_value=10, dealer_advantage = True,BJ_reward = 200, explosion = True, Summary = False, detail_summary = False)"
   ]
  },
  {
   "cell_type": "code",
   "execution_count": null,
   "metadata": {},
   "outputs": [],
   "source": [
    "df3.rename(columns={\"Cumulative\": \"Variation:2\"}, inplace = True)\n",
    "df3.drop(\"Won\", inplace =True, axis = 1)\n",
    "result = result.merge(df3, on='Game')"
   ]
  },
  {
   "cell_type": "code",
   "execution_count": null,
   "metadata": {},
   "outputs": [],
   "source": [
    "@interact(Game = result.columns)\n",
    "def plotting(location=list(result[[\"Variation1\", \"Variation:2\"]])):\n",
    "    '''\n",
    "    Reference: https://uiuc-ischool-dataviz.github.io/is445AOG_fall2020/week05/\n",
    "    This functions creates a graph with a drop down menu\n",
    "    \n",
    "    :params location: Takes in the columns names of dataframe for which drop down menu is required \n",
    "    '''\n",
    "    plt.figure(figsize=(30,20))\n",
    "    plt.xticks(rotation=90)\n",
    "    plt.plot(result['Game'], result[\"Base\"], label = \"Base Case\")\n",
    "    plt.plot(result['Game'], result[location], label = \"Variation Case\")\n",
    "    plt.xlabel('Number of Games',fontsize=24)\n",
    "    plt.ylabel('Rewards',fontsize=24)\n",
    "    plt.fontsize=20\n",
    "    plt.legend(prop={\"size\":40})\n"
   ]
  },
  {
   "cell_type": "code",
   "execution_count": null,
   "metadata": {},
   "outputs": [],
   "source": []
  },
  {
   "cell_type": "code",
   "execution_count": null,
   "metadata": {},
   "outputs": [],
   "source": []
  }
 ],
 "metadata": {
  "kernelspec": {
   "display_name": "Python 3",
   "language": "python",
   "name": "python3"
  },
  "language_info": {
   "codemirror_mode": {
    "name": "ipython",
    "version": 3
   },
   "file_extension": ".py",
   "mimetype": "text/x-python",
   "name": "python",
   "nbconvert_exporter": "python",
   "pygments_lexer": "ipython3",
   "version": "3.7.3"
  }
 },
 "nbformat": 4,
 "nbformat_minor": 4
}
